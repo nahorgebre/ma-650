{
 "cells": [
  {
   "cell_type": "code",
   "execution_count": 2,
   "metadata": {},
   "outputs": [
    {
     "output_type": "stream",
     "name": "stdout",
     "text": "Abstract: \n5,11-dihydro-6H-dibenz[b\ne]azepin-6-one\nSTR1\n(4-methyl-1-piperazinyl)-acetyl\nFormula I\n\nThe invention relates to novel substituted 5,11-dihydro-6H-dibenz[b,e]azepin-6-one of the formula ##STR1## wherein A represents a (1-methyl-4-piperidinyl)-acetyl, (4-methyl-1-piperazinyl)-acetyl, or [(1-methyl-4-piperidinyl)-amino]-carbonyl group, and the acid addition salts thereof, which have valuable pharmacological properties, particularly an ulcer-inhibiting and secretion-inhibiting activity. The compounds of Formula I may be prepared using methods conventionally used for analogous compounds.\n\n"
    }
   ],
   "source": [
    "# Gene Entity Recognition on Patent (4548935)\n",
    "import spacy\n",
    "from spacy import displacy\n",
    "import scispacy\n",
    "from pprint import pprint\n",
    "import en_ner_bionlp13cg_md\n",
    "import abstract4548935\n",
    "import abstracts4567178\n",
    "\n",
    "def getGeneNames(document, title):\n",
    "    print(title)\n",
    "    nlp = spacy.load(\"en_ner_bionlp13cg_md\")\n",
    "    for X in nlp(document).ents:\n",
    "        if X.label_=='GENE_OR_GENE_PRODUCT':\n",
    "            print(X.text)\n",
    "\n",
    "getGeneNames(abstracts4567178.abstract, \"Abstract: \")\n",
    "print(abstracts4567178.abstract)"
   ]
  },
  {
   "cell_type": "code",
   "execution_count": 1,
   "metadata": {},
   "outputs": [
    {
     "output_type": "stream",
     "name": "stdout",
     "text": "BRCA1\nBRCA1\nBRCA1\nBRCA1\nBRCA1\nBRCA1\n"
    }
   ],
   "source": [
    "# Gene Entity Recognition on Patent Abstract \n",
    "# (Patent-Id:5747282)\n",
    "import spacy\n",
    "from spacy import displacy\n",
    "import scispacy\n",
    "from pprint import pprint\n",
    "import en_ner_bionlp13cg_md\n",
    "import abstract5747282\n",
    "\n",
    "def getGeneNames(document):\n",
    "    nlp = spacy.load(\"en_ner_bionlp13cg_md\")\n",
    "    for X in nlp(document).ents:\n",
    "        if X.label_=='GENE_OR_GENE_PRODUCT':\n",
    "            print(X.text)\n",
    "\n",
    "getGeneNames(abstract5747282.abstract)"
   ]
  },
  {
   "cell_type": "code",
   "execution_count": 6,
   "metadata": {},
   "outputs": [
    {
     "output_type": "stream",
     "name": "stdout",
     "text": "calcitonin\n"
    }
   ],
   "source": [
    "import spacy\n",
    "import scispacy\n",
    "import en_ner_bionlp13cg_md\n",
    "\n",
    "document = \"New peptides are disclosed which have biological activity of the same type as known calcitonins and which have an alanine in positions 16 and 19 instead of the natural leucine or phenylalanine found in those positions. Also resin peptides are disclosed which may be converted to peptides having such biological activity; and processes for producing said resin peptides and said calcitonin peptides.\"\n",
    "\n",
    "nlp = spacy.load(\"en_ner_bionlp13cg_md\")\n",
    "for X in nlp(document).ents:\n",
    "    if X.label_=='GENE_OR_GENE_PRODUCT':\n",
    "        print(X.text)"
   ]
  },
  {
   "cell_type": "code",
   "execution_count": 2,
   "metadata": {},
   "outputs": [
    {
     "output_type": "error",
     "ename": "NameError",
     "evalue": "name 'entity' is not defined",
     "traceback": [
      "\u001b[1;31m---------------------------------------------------------------------------\u001b[0m",
      "\u001b[1;31mNameError\u001b[0m                                 Traceback (most recent call last)",
      "\u001b[1;32m<ipython-input-2-104390bd5601>\u001b[0m in \u001b[0;36m<module>\u001b[1;34m\u001b[0m\n\u001b[0;32m     17\u001b[0m           \u001b[0mprint\u001b[0m\u001b[1;33m(\u001b[0m\u001b[0mlinker\u001b[0m\u001b[1;33m.\u001b[0m\u001b[0mumls\u001b[0m\u001b[1;33m.\u001b[0m\u001b[0mcui_to_entity\u001b[0m\u001b[1;33m[\u001b[0m\u001b[0mumls_ent\u001b[0m\u001b[1;33m[\u001b[0m\u001b[1;36m0\u001b[0m\u001b[1;33m]\u001b[0m\u001b[1;33m]\u001b[0m\u001b[1;33m)\u001b[0m\u001b[1;33m\u001b[0m\u001b[1;33m\u001b[0m\u001b[0m\n\u001b[0;32m     18\u001b[0m \u001b[1;33m\u001b[0m\u001b[0m\n\u001b[1;32m---> 19\u001b[1;33m \u001b[0mgetGeneNames\u001b[0m\u001b[1;33m(\u001b[0m\u001b[0mabstract5747282\u001b[0m\u001b[1;33m.\u001b[0m\u001b[0mabstract\u001b[0m\u001b[1;33m)\u001b[0m\u001b[1;33m\u001b[0m\u001b[1;33m\u001b[0m\u001b[0m\n\u001b[0m",
      "\u001b[1;32m<ipython-input-2-104390bd5601>\u001b[0m in \u001b[0;36mgetGeneNames\u001b[1;34m(document)\u001b[0m\n\u001b[0;32m     13\u001b[0m     \u001b[0mlinker\u001b[0m \u001b[1;33m=\u001b[0m \u001b[0mUmlsEntityLinker\u001b[0m\u001b[1;33m(\u001b[0m\u001b[0mresolve_abbreviations\u001b[0m\u001b[1;33m=\u001b[0m\u001b[1;32mTrue\u001b[0m\u001b[1;33m)\u001b[0m\u001b[1;33m\u001b[0m\u001b[1;33m\u001b[0m\u001b[0m\n\u001b[0;32m     14\u001b[0m     \u001b[0mnlp\u001b[0m\u001b[1;33m.\u001b[0m\u001b[0madd_pipe\u001b[0m\u001b[1;33m(\u001b[0m\u001b[0mlinker\u001b[0m\u001b[1;33m)\u001b[0m\u001b[1;33m\u001b[0m\u001b[1;33m\u001b[0m\u001b[0m\n\u001b[1;32m---> 15\u001b[1;33m     \u001b[1;32mfor\u001b[0m \u001b[0mumls_ent\u001b[0m \u001b[1;32min\u001b[0m \u001b[0mentity\u001b[0m\u001b[1;33m.\u001b[0m\u001b[0m_\u001b[0m\u001b[1;33m.\u001b[0m\u001b[0mumls_ents\u001b[0m\u001b[1;33m:\u001b[0m\u001b[1;33m\u001b[0m\u001b[1;33m\u001b[0m\u001b[0m\n\u001b[0m\u001b[0;32m     16\u001b[0m         \u001b[1;32mif\u001b[0m \u001b[0mumls_ent\u001b[0m\u001b[1;33m.\u001b[0m\u001b[0mlabel_\u001b[0m\u001b[1;33m==\u001b[0m\u001b[1;34m'GENE_OR_GENE_PRODUCT'\u001b[0m\u001b[1;33m:\u001b[0m\u001b[1;33m\u001b[0m\u001b[1;33m\u001b[0m\u001b[0m\n\u001b[0;32m     17\u001b[0m           \u001b[0mprint\u001b[0m\u001b[1;33m(\u001b[0m\u001b[0mlinker\u001b[0m\u001b[1;33m.\u001b[0m\u001b[0mumls\u001b[0m\u001b[1;33m.\u001b[0m\u001b[0mcui_to_entity\u001b[0m\u001b[1;33m[\u001b[0m\u001b[0mumls_ent\u001b[0m\u001b[1;33m[\u001b[0m\u001b[1;36m0\u001b[0m\u001b[1;33m]\u001b[0m\u001b[1;33m]\u001b[0m\u001b[1;33m)\u001b[0m\u001b[1;33m\u001b[0m\u001b[1;33m\u001b[0m\u001b[0m\n",
      "\u001b[1;31mNameError\u001b[0m: name 'entity' is not defined"
     ]
    }
   ],
   "source": [
    "# Gene Entity Recognition and Linking on Patent Abstract \n",
    "# (Patent-Id:5747282)\n",
    "import spacy\n",
    "from spacy import displacy\n",
    "import scispacy\n",
    "import en_ner_bionlp13cg_md\n",
    "import abstract5747282\n",
    "\n",
    "from scispacy.umls_linking import UmlsEntityLinker\n",
    "\n",
    "def getGeneNames(document):\n",
    "    nlp = spacy.load(\"en_ner_bionlp13cg_md\")\n",
    "    linker = UmlsEntityLinker(resolve_abbreviations=True)\n",
    "    nlp.add_pipe(linker)\n",
    "    for umls_ent in document._.umls_ents:\n",
    "        if umls_ent.label_=='GENE_OR_GENE_PRODUCT':\n",
    "          print(linker.umls.cui_to_entity[umls_ent[0]])\n",
    "\n",
    "getGeneNames(abstract5747282.abstract)"
   ]
  },
  {
   "cell_type": "code",
   "execution_count": null,
   "metadata": {},
   "outputs": [],
   "source": []
  }
 ],
 "metadata": {
  "language_info": {
   "codemirror_mode": {
    "name": "ipython",
    "version": 3
   },
   "file_extension": ".py",
   "mimetype": "text/x-python",
   "name": "python",
   "nbconvert_exporter": "python",
   "pygments_lexer": "ipython3",
   "version": "3.7.7-final"
  },
  "orig_nbformat": 2,
  "kernelspec": {
   "name": "python37764bitvenvvenv5d0797307b9548fc8c1d0710c5e30c9c",
   "display_name": "Python 3.7.7 64-bit ('venv': venv)"
  }
 },
 "nbformat": 4,
 "nbformat_minor": 2
}