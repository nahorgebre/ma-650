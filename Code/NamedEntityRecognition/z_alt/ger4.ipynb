{
 "cells": [
  {
   "cell_type": "code",
   "execution_count": 8,
   "metadata": {},
   "outputs": [
    {
     "output_type": "stream",
     "name": "stdout",
     "text": "Abbreviation \t Definition\n"
    }
   ],
   "source": [
    "# test\n",
    "import spacy\n",
    "\n",
    "from scispacy.abbreviation import AbbreviationDetector\n",
    "\n",
    "import abstracts4567178\n",
    "import abstract5747282\n",
    "import abstract4548935\n",
    "\n",
    "nlp = spacy.load(\"en_ner_bionlp13cg_md\")\n",
    "\n",
    "# Add the abbreviation pipe to the spacy pipeline.\n",
    "abbreviation_pipe = AbbreviationDetector(nlp)\n",
    "nlp.add_pipe(abbreviation_pipe)\n",
    "\n",
    "doc_text = \"ESR1 mutation and its possible relation to endocrine therapy resistance in ER-positive breast cancers have been studied with respect to genetic sequencing data from Western patients but rarely from Chinese patients. This study aimed to investigate the prevalence of ESR1 mutation in Chinese primary and metastatic ER-positive breast cancer.\"\n",
    "\n",
    "doc = nlp(abstract5747282.abstract)\n",
    "\n",
    "print(\"Abbreviation\", \"\\t\", \"Definition\")\n",
    "for abrv in doc._.abbreviations:\n",
    "    if abrv.label_=='GENE_OR_GENE_PRODUCT':\n",
    "\t    print(f\"{abrv} \\t ({abrv.start}, {abrv.end}) {abrv._.long_form}\")"
   ]
  },
  {
   "cell_type": "code",
   "execution_count": null,
   "metadata": {},
   "outputs": [],
   "source": []
  }
 ],
 "metadata": {
  "language_info": {
   "codemirror_mode": {
    "name": "ipython",
    "version": 3
   },
   "file_extension": ".py",
   "mimetype": "text/x-python",
   "name": "python",
   "nbconvert_exporter": "python",
   "pygments_lexer": "ipython3",
   "version": "3.7.7-final"
  },
  "orig_nbformat": 2,
  "kernelspec": {
   "name": "python37764bitvenvvenv5d0797307b9548fc8c1d0710c5e30c9c",
   "display_name": "Python 3.7.7 64-bit ('venv': venv)"
  }
 },
 "nbformat": 4,
 "nbformat_minor": 2
}