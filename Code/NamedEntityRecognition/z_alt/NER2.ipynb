{
 "cells": [
  {
   "cell_type": "code",
   "execution_count": 21,
   "metadata": {},
   "outputs": [
    {
     "output_type": "stream",
     "name": "stdout",
     "text": "ESR1\nESR1\n"
    }
   ],
   "source": [
    "# Gene Entity Recognition on PubMed-Publication\n",
    "import spacy\n",
    "from spacy import displacy\n",
    "\n",
    "import scispacy\n",
    "\n",
    "from pprint import pprint\n",
    "import en_ner_bionlp13cg_md\n",
    "\n",
    "document = \"ESR1 mutation and its possible relation to endocrine therapy resistance in ER-positive breast cancers have been studied with respect to genetic sequencing data from Western patients but rarely from Chinese patients. This study aimed to investigate the prevalence of ESR1 mutation in Chinese primary and metastatic ER-positive breast cancer.\"\n",
    "\n",
    "list_genes = []\n",
    "nlp = spacy.load(\"en_ner_bionlp13cg_md\")\n",
    "for X in nlp(document).ents:\n",
    "    if X.label_=='GENE_OR_GENE_PRODUCT':\n",
    "        list_genes.append(X.text)\n",
    "\n",
    "for Y in list_genes:\n",
    "    print(Y)"
   ]
  },
  {
   "cell_type": "code",
   "execution_count": 3,
   "metadata": {},
   "outputs": [
    {
     "output_type": "stream",
     "name": "stdout",
     "text": "Abstract: \nSTR1\nR.sup.1\nR.sup.2\nR.sup.3\nC.sub.1 -C.sub.4 alkyl\nR.sup.4\nC.sub.1 -C.sub.4 alkyl\nCO(C.sub.1 -C.sub.4 alkyl\nCOCF.sub.3\nSO.sub.2 (\nR.sup.5\nR.sup.6\nC.sub.1 -C.sub.4 alkyl\nN-(C.sub.1 -C.sub.4 alkyl)piperazinyl\nDihydropyridine anti-ischaemic and anti-hypertensive agents of the formula: ##STR1## and their pharmaceutically acceptable salts; wherein R is aryl or heteroaryl; R.sup.1 and R.sup.2 are each independently C.sub.1 -C.sub.4 or 2-methoxyethyl; n is 1 or 2; m is 1, 2 or 3; X is a 5 or 6 membered aromatic heterocyclic group which is linked to the adjacent alkoxymethyl group by a ring carbon atoms thereof; and Z is a group--NR.sup.3 R.sup.4 or a 5 to 6 membered nitrogen containing heterocyclic group; where R.sup.3 is H or C.sub.1 -C.sub.4 alkyl; R.sup.4 is H, C.sub.1 -C.sub.4 alkyl, CO(C.sub.1 -C.sub.4 alkyl), COCF.sub.3, CONR.sup.5 R.sup.6, SO.sub.2 (C.sub.1 -C.sub.4 alkyl) or a heterocyclic or SO.sub.2 -heterocyclic group, wherein the heterocyclic group is optionally substituted; R.sup.5 and R.sup.6 and each independently H or C.sub.1 -C.sub.4 alkyl or taken together with the nitrogen atom to which they are attached, they form a pyrrolidinyl, piperidyl, morpholino, piperazinyl or N-(C.sub.1 -C.sub.4 alkyl)piperazinyl group.\n"
    }
   ],
   "source": [
    "# Gene Entity Recognition on Patent (4548935)\n",
    "import spacy\n",
    "from spacy import displacy\n",
    "import scispacy\n",
    "from pprint import pprint\n",
    "import en_ner_bionlp13cg_md\n",
    "import claims4548935\n",
    "import abstract4548935\n",
    "import description4548935\n",
    "\n",
    "def getGeneNames(document, title):\n",
    "    print(title)\n",
    "    nlp = spacy.load(\"en_ner_bionlp13cg_md\")\n",
    "    for X in nlp(document).ents:\n",
    "        if X.label_=='GENE_OR_GENE_PRODUCT':\n",
    "            print(X.text)\n",
    "\n",
    "getGeneNames(abstract4548935.abstract, \"Abstract: \")\n",
    "print(abstract4548935.abstract)\n",
    "#getGeneNames(description4548935.description, \"Description: \")\n",
    "#getGeneNames(claims4548935.claims, \"Claims: \")"
   ]
  },
  {
   "cell_type": "code",
   "execution_count": 43,
   "metadata": {},
   "outputs": [
    {
     "output_type": "stream",
     "name": "stdout",
     "text": "https://s3-us-west-2.amazonaws.com/ai2-s2-scispacy/data/linking_model/tfidf_vectors_sparse.npz not found in cache, downloading to C:\\Users\\nahor\\AppData\\Local\\Temp\\tmpwuub1saz\nFinished download, copying C:\\Users\\nahor\\AppData\\Local\\Temp\\tmpwuub1saz to cache at C:\\Users\\nahor\\.scispacy\\datasets\\ea855fd121a193f03190a91417c209d4cd97e63d3ce4b456c248ef7c13a4ca77.03518aabd12de2103a27a50302f37c3d87b0f313a8be08b5ec306c9c4334b9b1.tfidf_vectors_sparse.npz\nhttps://s3-us-west-2.amazonaws.com/ai2-s2-scispacy/data/linking_model/nmslib_index.bin not found in cache, downloading to C:\\Users\\nahor\\AppData\\Local\\Temp\\tmpznrv2k75\nFinished download, copying C:\\Users\\nahor\\AppData\\Local\\Temp\\tmpznrv2k75 to cache at C:\\Users\\nahor\\.scispacy\\datasets\\5f620d1bd549a98c005ed601a73806ea2cd1a86ae6c54bbc62bcb3b452ca2630.27a7ac6807fde6628311ff7d70b86fefc640d0eb70637b544c591722a2c16c2a.nmslib_index.bin\nhttps://s3-us-west-2.amazonaws.com/ai2-s2-scispacy/data/linking_model/tfidf_vectorizer.joblib not found in cache, downloading to C:\\Users\\nahor\\AppData\\Local\\Temp\\tmp37jn6s37\nFinished download, copying C:\\Users\\nahor\\AppData\\Local\\Temp\\tmp37jn6s37 to cache at C:\\Users\\nahor\\.scispacy\\datasets\\ffb7a77cdcb3c9233c1e4009c69f38efc13c3619238c508459b5f03fd5f14e4b.9e501319abafbe723d25f1737402d504af6f198fb43b96c85692fa0f9ddc5516.tfidf_vectorizer.joblib\nhttps://s3-us-west-2.amazonaws.com/ai2-s2-scispacy/data/linking_model/concept_aliases.json not found in cache, downloading to C:\\Users\\nahor\\AppData\\Local\\Temp\\tmp6vajjtf8\nFinished download, copying C:\\Users\\nahor\\AppData\\Local\\Temp\\tmp6vajjtf8 to cache at C:\\Users\\nahor\\.scispacy\\datasets\\0f064d20aefab965d5772b2100f8436b3541e7d5313c76cfe5fe070902f149fe.31df9cdb04729860a81bd6c980224ed2bff582586c398d0c9b96ae4e257b9da2.concept_aliases.json\nhttps://s3-us-west-2.amazonaws.com/ai2-s2-scispacy/data/umls_2017_aa_cat0129.json not found in cache, downloading to C:\\Users\\nahor\\AppData\\Local\\Temp\\tmpt8zevi6a\nFinished download, copying C:\\Users\\nahor\\AppData\\Local\\Temp\\tmpt8zevi6a to cache at C:\\Users\\nahor\\.scispacy\\datasets\\13b30cd31cd37c1b52f3df6ea023061172d16e9941660e677fdbb29489af7410.4ad71d86ce780e00cab131c7e3b81acfd2f11dd80ccd61125c8bcde506f2ab8a.umls_2017_aa_cat0129.json\nhttps://s3-us-west-2.amazonaws.com/ai2-s2-scispacy/data/umls_semantic_type_tree.tsv not found in cache, downloading to C:\\Users\\nahor\\AppData\\Local\\Temp\\tmpx6j315wa\nFinished download, copying C:\\Users\\nahor\\AppData\\Local\\Temp\\tmpx6j315wa to cache at C:\\Users\\nahor\\.scispacy\\datasets\\21a1012c532c3a431d60895c509f5b4d45b0f8966c4178b892190a302b21836f.330707f4efe774134872b9f77f0e3208c1d30f50800b3b39a6b8ec21d9adf1b7.umls_semantic_type_tree.tsv\n"
    },
    {
     "output_type": "error",
     "ename": "TypeError",
     "evalue": "object of type 'module' has no len()",
     "traceback": [
      "\u001b[1;31m---------------------------------------------------------------------------\u001b[0m",
      "\u001b[1;31mTypeError\u001b[0m                                 Traceback (most recent call last)",
      "\u001b[1;32m<ipython-input-43-7ced22f42712>\u001b[0m in \u001b[0;36m<module>\u001b[1;34m\u001b[0m\n\u001b[0;32m     24\u001b[0m             \u001b[0mprint\u001b[0m\u001b[1;33m(\u001b[0m\u001b[0mlinker\u001b[0m\u001b[1;33m.\u001b[0m\u001b[0mumls\u001b[0m\u001b[1;33m.\u001b[0m\u001b[0mcui_to_entity\u001b[0m\u001b[1;33m[\u001b[0m\u001b[0mumls_ent\u001b[0m\u001b[1;33m[\u001b[0m\u001b[1;36m0\u001b[0m\u001b[1;33m]\u001b[0m\u001b[1;33m]\u001b[0m\u001b[1;33m)\u001b[0m\u001b[1;33m\u001b[0m\u001b[1;33m\u001b[0m\u001b[0m\n\u001b[0;32m     25\u001b[0m \u001b[1;33m\u001b[0m\u001b[0m\n\u001b[1;32m---> 26\u001b[1;33m \u001b[0munified_medical_language_entity_linker\u001b[0m\u001b[1;33m(\u001b[0m\u001b[0men_ner_bionlp13cg_md\u001b[0m\u001b[1;33m,\u001b[0m \u001b[0mabstract4548935\u001b[0m\u001b[1;33m)\u001b[0m\u001b[1;33m\u001b[0m\u001b[1;33m\u001b[0m\u001b[0m\n\u001b[0m",
      "\u001b[1;32m<ipython-input-43-7ced22f42712>\u001b[0m in \u001b[0;36munified_medical_language_entity_linker\u001b[1;34m(model, document)\u001b[0m\n\u001b[0;32m     12\u001b[0m     \u001b[0mlinker\u001b[0m \u001b[1;33m=\u001b[0m \u001b[0mUmlsEntityLinker\u001b[0m\u001b[1;33m(\u001b[0m\u001b[0mk\u001b[0m\u001b[1;33m=\u001b[0m\u001b[1;36m10\u001b[0m\u001b[1;33m,\u001b[0m\u001b[0mmax_entities_per_mention\u001b[0m \u001b[1;33m=\u001b[0m \u001b[1;36m2\u001b[0m\u001b[1;33m)\u001b[0m\u001b[1;33m\u001b[0m\u001b[1;33m\u001b[0m\u001b[0m\n\u001b[0;32m     13\u001b[0m     \u001b[0mnlp\u001b[0m\u001b[1;33m.\u001b[0m\u001b[0madd_pipe\u001b[0m\u001b[1;33m(\u001b[0m\u001b[0mlinker\u001b[0m\u001b[1;33m)\u001b[0m\u001b[1;33m\u001b[0m\u001b[1;33m\u001b[0m\u001b[0m\n\u001b[1;32m---> 14\u001b[1;33m     \u001b[0mdoc\u001b[0m \u001b[1;33m=\u001b[0m \u001b[0mnlp\u001b[0m\u001b[1;33m(\u001b[0m\u001b[0mdocument\u001b[0m\u001b[1;33m)\u001b[0m\u001b[1;33m\u001b[0m\u001b[1;33m\u001b[0m\u001b[0m\n\u001b[0m\u001b[0;32m     15\u001b[0m     \u001b[0mentity\u001b[0m \u001b[1;33m=\u001b[0m \u001b[0mdoc\u001b[0m\u001b[1;33m.\u001b[0m\u001b[0ments\u001b[0m\u001b[1;33m\u001b[0m\u001b[1;33m\u001b[0m\u001b[0m\n\u001b[0;32m     16\u001b[0m     \u001b[0mentity\u001b[0m \u001b[1;33m=\u001b[0m \u001b[1;33m[\u001b[0m\u001b[0mstr\u001b[0m\u001b[1;33m(\u001b[0m\u001b[0mitem\u001b[0m\u001b[1;33m)\u001b[0m \u001b[1;32mfor\u001b[0m \u001b[0mitem\u001b[0m \u001b[1;32min\u001b[0m \u001b[0mentity\u001b[0m\u001b[1;33m]\u001b[0m\u001b[1;33m\u001b[0m\u001b[1;33m\u001b[0m\u001b[0m\n",
      "\u001b[1;32mc:\\Users\\nahor\\Documents\\GitHub\\ma-650\\Code\\NamedEntityRecognition\\venv\\lib\\site-packages\\spacy\\language.py\u001b[0m in \u001b[0;36m__call__\u001b[1;34m(self, text, disable, component_cfg)\u001b[0m\n\u001b[0;32m    425\u001b[0m         \u001b[0mDOCS\u001b[0m\u001b[1;33m:\u001b[0m \u001b[0mhttps\u001b[0m\u001b[1;33m:\u001b[0m\u001b[1;33m//\u001b[0m\u001b[0mspacy\u001b[0m\u001b[1;33m.\u001b[0m\u001b[0mio\u001b[0m\u001b[1;33m/\u001b[0m\u001b[0mapi\u001b[0m\u001b[1;33m/\u001b[0m\u001b[0mlanguage\u001b[0m\u001b[1;31m#call\u001b[0m\u001b[1;33m\u001b[0m\u001b[1;33m\u001b[0m\u001b[0m\n\u001b[0;32m    426\u001b[0m         \"\"\"\n\u001b[1;32m--> 427\u001b[1;33m         \u001b[1;32mif\u001b[0m \u001b[0mlen\u001b[0m\u001b[1;33m(\u001b[0m\u001b[0mtext\u001b[0m\u001b[1;33m)\u001b[0m \u001b[1;33m>\u001b[0m \u001b[0mself\u001b[0m\u001b[1;33m.\u001b[0m\u001b[0mmax_length\u001b[0m\u001b[1;33m:\u001b[0m\u001b[1;33m\u001b[0m\u001b[1;33m\u001b[0m\u001b[0m\n\u001b[0m\u001b[0;32m    428\u001b[0m             raise ValueError(\n\u001b[0;32m    429\u001b[0m                 \u001b[0mErrors\u001b[0m\u001b[1;33m.\u001b[0m\u001b[0mE088\u001b[0m\u001b[1;33m.\u001b[0m\u001b[0mformat\u001b[0m\u001b[1;33m(\u001b[0m\u001b[0mlength\u001b[0m\u001b[1;33m=\u001b[0m\u001b[0mlen\u001b[0m\u001b[1;33m(\u001b[0m\u001b[0mtext\u001b[0m\u001b[1;33m)\u001b[0m\u001b[1;33m,\u001b[0m \u001b[0mmax_length\u001b[0m\u001b[1;33m=\u001b[0m\u001b[0mself\u001b[0m\u001b[1;33m.\u001b[0m\u001b[0mmax_length\u001b[0m\u001b[1;33m)\u001b[0m\u001b[1;33m\u001b[0m\u001b[1;33m\u001b[0m\u001b[0m\n",
      "\u001b[1;31mTypeError\u001b[0m: object of type 'module' has no len()"
     ]
    }
   ],
   "source": [
    "import spacy\n",
    "from spacy import displacy\n",
    "import scispacy\n",
    "from pprint import pprint\n",
    "import en_ner_bionlp13cg_md\n",
    "import claims4548935\n",
    "import abstract4548935\n",
    "import description4548935\n",
    "\n",
    "def unified_medical_language_entity_linker(model,document):\n",
    "    nlp = model.load()\n",
    "    linker = UmlsEntityLinker(k=10,max_entities_per_mention = 2)    \n",
    "    nlp.add_pipe(linker)\n",
    "    doc = nlp(document)\n",
    "    entity = doc.ents\n",
    "    entity = [str(item) for item in entity]             \n",
    "    entity = str(OrderedDict.fromkeys(entity))           \n",
    "    entity = nlp(entity).ents                             \n",
    "    for entity in entity:\n",
    "        for umls_ent in entity._.umls_ents:\n",
    "            print(\"Entity Name:\" ,entity)\n",
    "            Concept_Id, Score = umls_ent\n",
    "            print('Concept_Id = {} Score = {}'.format(Concept_Id,Score))\n",
    "            print(linker.umls.cui_to_entity[umls_ent[0]])\n",
    "\n",
    "unified_medical_language_entity_linker(en_ner_bionlp13cg_md, abstract4548935)"
   ]
  }
 ],
 "metadata": {
  "language_info": {
   "codemirror_mode": {
    "name": "ipython",
    "version": 3
   },
   "file_extension": ".py",
   "mimetype": "text/x-python",
   "name": "python",
   "nbconvert_exporter": "python",
   "pygments_lexer": "ipython3",
   "version": "3.7.7-final"
  },
  "orig_nbformat": 2,
  "kernelspec": {
   "name": "python37764bitvenvvenv5d0797307b9548fc8c1d0710c5e30c9c",
   "display_name": "Python 3.7.7 64-bit ('venv': venv)"
  }
 },
 "nbformat": 4,
 "nbformat_minor": 2
}