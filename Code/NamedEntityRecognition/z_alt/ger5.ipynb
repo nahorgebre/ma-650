{
 "cells": [
  {
   "cell_type": "code",
   "execution_count": 1,
   "metadata": {},
   "outputs": [],
   "source": [
    "import scispacy\n",
    "import spacy\n",
    "from spacy import displacy\n",
    "import en_ner_bionlp13cg_md\n",
    "import pandas as pd\n",
    "\n",
    "df = pd.read_csv(\"patentAbstracts.csv\")\n",
    "pnumList = df['pnum'].tolist()\n",
    "abstractList = df['abstract'].tolist()\n",
    "\n",
    "nlp_bi = en_ner_bionlp13cg_md.load()\n",
    "\n",
    "def getGeneNames(pnumList, abstractList):\n",
    "    i = 0\n",
    "    table= {\"pnum\":[], \"Entity\":[]}\n",
    "    for doc in nlp_bi.pipe(abstractList):\n",
    "        pnum = pnumList[i]\n",
    "        for x in doc.ents:\n",
    "            if x.label_=='GENE_OR_GENE_PRODUCT':\n",
    "                table[\"pnum\"].append(pnum)\n",
    "                table[\"Entity\"].append(x.text)\n",
    "        i +=1\n",
    "    return table\n",
    "\n",
    "table = getGeneNames(pnumList, abstractList)\n",
    "\n",
    "trans_df = pd.DataFrame(table)\n",
    "trans_df.to_csv (\"Entity_all.csv\", index=False)\n"
   ]
  },
  {
   "cell_type": "code",
   "execution_count": 1,
   "metadata": {},
   "outputs": [],
   "source": [
    "import scispacy\n",
    "from scispacy.umls_linking import UmlsEntityLinker\n",
    "import spacy\n",
    "from spacy import displacy\n",
    "import en_ner_bionlp13cg_md\n",
    "import pandas as pd\n",
    "\n",
    "df = pd.read_csv(\"patentAbstracts.csv\")\n",
    "pnumList = df['pnum'].tolist()\n",
    "abstractList = df['abstract'].tolist()\n",
    "\n",
    "nlp_bi = en_ner_bionlp13cg_md.load()\n",
    "linker = UmlsEntityLinker(resolve_abbreviations=True, max_entities_per_mention=1)\n",
    "nlp_bi.add_pipe(linker)\n",
    "\n",
    "def getGeneNames(pnumList, abstractList):\n",
    "    i = 0\n",
    "    table= {\"pnum\":[], \"Entity\":[], \"Type\":[], \"FullName\":[]}\n",
    "    for doc in nlp_bi.pipe(abstractList):\n",
    "        pnum = pnumList[i]\n",
    "        for ent in doc.ents:\n",
    "            if ent.label_=='GENE_OR_GENE_PRODUCT':\n",
    "                for umls_ent in ent._.umls_ents:\n",
    "                    table[\"pnum\"].append(pnum)\n",
    "                    table[\"Entity\"].append(ent.text)\n",
    "                    info = str(linker.umls.cui_to_entity[umls_ent[0]])\n",
    "                    lines = info.split('\\n')\n",
    "                    cuiandname = lines[0].split(', ')\n",
    "                    fname = cuiandname[1][6:]\n",
    "                    tui = lines[2][8:]\n",
    "                    table[\"Type\"].append(tui)\n",
    "                    table[\"FullName\"].append(fname)\n",
    "        i +=1\n",
    "    return table\n",
    "\n",
    "table = getGeneNames(pnumList, abstractList)\n",
    "\n",
    "trans_df = pd.DataFrame(table)\n",
    "trans_df.to_csv (\"Entity_umls.csv\", index=False)"
   ]
  },
  {
   "cell_type": "code",
   "execution_count": null,
   "metadata": {},
   "outputs": [],
   "source": []
  }
 ],
 "metadata": {
  "language_info": {
   "codemirror_mode": {
    "name": "ipython",
    "version": 3
   },
   "file_extension": ".py",
   "mimetype": "text/x-python",
   "name": "python",
   "nbconvert_exporter": "python",
   "pygments_lexer": "ipython3",
   "version": "3.7.7-final"
  },
  "orig_nbformat": 2,
  "kernelspec": {
   "name": "python37764bitvenvvenv5d0797307b9548fc8c1d0710c5e30c9c",
   "display_name": "Python 3.7.7 64-bit ('venv': venv)"
  }
 },
 "nbformat": 4,
 "nbformat_minor": 2
}