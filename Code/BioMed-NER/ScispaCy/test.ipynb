{
 "cells": [
  {
   "cell_type": "code",
   "execution_count": null,
   "metadata": {},
   "outputs": [],
   "source": [
    "import scispacy"
   ]
  },
  {
   "cell_type": "code",
   "execution_count": 2,
   "metadata": {},
   "outputs": [
    {
     "name": "stdout",
     "output_type": "stream",
     "text": [
      "Oestrogen Receptor 1\n",
      "2\n",
      "5\n",
      "ESR1\n",
      "6\n",
      "7\n",
      "oestrogen receptor\n",
      "13\n",
      "15\n",
      "aromatase\n",
      "27\n",
      "28\n",
      "ESR1\n",
      "38\n",
      "39\n",
      "ESR1\n",
      "68\n",
      "69\n",
      "RON\n",
      "87\n",
      "88\n",
      "PI3K\n",
      "90\n",
      "92\n",
      "RON\n",
      "119\n",
      "120\n",
      "ESR1\n",
      "123\n",
      "124\n",
      "PalbR\n",
      "132\n",
      "133\n",
      "RON\n",
      "136\n",
      "137\n",
      "insulin-like growth factor 1 receptor\n",
      "138\n",
      "143\n",
      "IGF-1R\n",
      "144\n",
      "145\n",
      "ER\n",
      "160\n",
      "161\n",
      "RON\n",
      "182\n",
      "183\n",
      "ESR1\n",
      "193\n",
      "194\n",
      "PalbR\n",
      "202\n",
      "203\n",
      "ESR1\n",
      "222\n",
      "223\n",
      "ESR1\n",
      "245\n",
      "246\n",
      "PalbR\n",
      "248\n",
      "249\n",
      "CDK4/6\n",
      "264\n",
      "265\n"
     ]
    }
   ],
   "source": [
    "import spacy\n",
    "import scispacy\n",
    "import en_ner_bionlp13cg_md\n",
    "\n",
    "text = \"BACKGROUND: Oestrogen Receptor 1 (ESR1) mutations are frequently acquired in oestrogen receptor (ER)-positive metastatic breast cancer (MBC) patients who were treated with aromatase inhibitors (AI) in the metastatic setting. Acquired ESR1 mutations are associated with poor prognosis and there is a lack of effective therapies that selectively target these cancers. METHODS: We performed a proteomic kinome analysis in ESR1 Y537S mutant cells to identify hyperactivated kinases in ESR1 mutant cells. We validated Recepteur d'Origine Nantais (RON) and PI3K hyperactivity through phospho-immunoblot analysis, organoid growth assays, and in an in vivo patient-derived xenograft (PDX) metastatic model. RESULTS: We demonstrated that RON was hyperactivated in ESR1 mutant models, and in acquired palbociclib-resistant (PalbR) models. RON and insulin-like growth factor 1 receptor (IGF-1R) interacted as shown through pharmacological and genetic inhibition and were regulated by the mutant ER as demonstrated by reduced phospho-protein expression with endocrine therapies (ET). We show that ET in combination with a RON inhibitor (RONi) decreased ex vivo organoid growth of ESR1 mutant models, and as a monotherapy in PalbR models, demonstrating its therapeutic efficacy. Significantly, ET in combination with the RONi reduced metastasis of an ESR1 Y537S mutant PDX model. CONCLUSIONS: Our results demonstrate that RON/PI3K pathway inhibition may be an effective treatment strategy in ESR1 mutant and PalbR MBC patients. Clinically our data predict that ET resistance mechanisms can also contribute to CDK4/6 inhibitor resistance.\"\n",
    "\n",
    "nlp = spacy.load('en_ner_bionlp13cg_md')\n",
    "for ent in nlp(text).ents:\n",
    "    if ent.label_=='GENE_OR_GENE_PRODUCT':\n",
    "        print(ent.text)\n",
    "        print(ent.start)\n",
    "        print(ent.end)"
   ]
  },
  {
   "cell_type": "code",
   "execution_count": null,
   "metadata": {},
   "outputs": [],
   "source": []
  }
 ],
 "metadata": {
  "kernelspec": {
   "display_name": "Python 3",
   "language": "python",
   "name": "python3"
  },
  "language_info": {
   "codemirror_mode": {
    "name": "ipython",
    "version": 3
   },
   "file_extension": ".py",
   "mimetype": "text/x-python",
   "name": "python",
   "nbconvert_exporter": "python",
   "pygments_lexer": "ipython3",
   "version": "3.8.5"
  }
 },
 "nbformat": 4,
 "nbformat_minor": 2
}
