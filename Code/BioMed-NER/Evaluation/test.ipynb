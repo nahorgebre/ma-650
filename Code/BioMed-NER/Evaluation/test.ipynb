{
 "metadata": {
  "language_info": {
   "codemirror_mode": {
    "name": "ipython",
    "version": 3
   },
   "file_extension": ".py",
   "mimetype": "text/x-python",
   "name": "python",
   "nbconvert_exporter": "python",
   "pygments_lexer": "ipython3",
   "version": "3.8.5-final"
  },
  "orig_nbformat": 2,
  "kernelspec": {
   "name": "python3",
   "display_name": "Python 3",
   "language": "python"
  }
 },
 "nbformat": 4,
 "nbformat_minor": 2,
 "cells": [
  {
   "cell_type": "code",
   "execution_count": 3,
   "metadata": {},
   "outputs": [
    {
     "output_type": "stream",
     "name": "stdout",
     "text": [
      "Alpha 4 integrin\n0\n16\n"
     ]
    }
   ],
   "source": [
    "import spacy\n",
    "import scispacy\n",
    "import en_ner_bionlp13cg_md\n",
    "\n",
    "text = \"Alpha 4 integrin antagonists\"\n",
    "\n",
    "nlp = spacy.load('en_ner_bionlp13cg_md')\n",
    "for ent in nlp(text).ents:\n",
    "    if ent.label_=='GENE_OR_GENE_PRODUCT':\n",
    "        print(ent.text)\n",
    "        print(ent.start_char-ent.sent.start_char)\n",
    "        print(ent.end_char-ent.sent.start_char)"
   ]
  },
  {
   "cell_type": "code",
   "execution_count": null,
   "metadata": {},
   "outputs": [],
   "source": []
  }
 ]
}